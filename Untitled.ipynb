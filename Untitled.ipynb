{
 "cells": [
  {
   "cell_type": "code",
   "execution_count": 2,
   "metadata": {},
   "outputs": [],
   "source": [
    "import os\n",
    "import numpy as np\n",
    "import matplotlib.pyplot as plt"
   ]
  },
  {
   "cell_type": "code",
   "execution_count": 3,
   "metadata": {},
   "outputs": [
    {
     "data": {
      "text/plain": [
       "<generator object walk at 0x0000022673CD5A98>"
      ]
     },
     "execution_count": 3,
     "metadata": {},
     "output_type": "execute_result"
    }
   ],
   "source": [
    "os.walk('dummy_demo')"
   ]
  },
  {
   "cell_type": "code",
   "execution_count": 7,
   "metadata": {},
   "outputs": [
    {
     "data": {
      "text/plain": [
       "['dummy_bart\\\\enemy 1',\n",
       " 'dummy_bart\\\\enemy 1\\\\sim 1',\n",
       " 'dummy_bart\\\\enemy 1\\\\sim 10',\n",
       " 'dummy_bart\\\\enemy 1\\\\sim 2',\n",
       " 'dummy_bart\\\\enemy 1\\\\sim 3',\n",
       " 'dummy_bart\\\\enemy 1\\\\sim 4',\n",
       " 'dummy_bart\\\\enemy 1\\\\sim 5',\n",
       " 'dummy_bart\\\\enemy 1\\\\sim 6',\n",
       " 'dummy_bart\\\\enemy 1\\\\sim 7',\n",
       " 'dummy_bart\\\\enemy 1\\\\sim 8',\n",
       " 'dummy_bart\\\\enemy 1\\\\sim 9']"
      ]
     },
     "execution_count": 7,
     "metadata": {},
     "output_type": "execute_result"
    }
   ],
   "source": [
    "[x[0] for x in os.walk('dummy_bart\\enemy 1')]"
   ]
  },
  {
   "cell_type": "code",
   "execution_count": null,
   "metadata": {},
   "outputs": [],
   "source": []
  }
 ],
 "metadata": {
  "kernelspec": {
   "display_name": "Python 3",
   "language": "python",
   "name": "python3"
  },
  "language_info": {
   "codemirror_mode": {
    "name": "ipython",
    "version": 3
   },
   "file_extension": ".py",
   "mimetype": "text/x-python",
   "name": "python",
   "nbconvert_exporter": "python",
   "pygments_lexer": "ipython3",
   "version": "3.6.9"
  }
 },
 "nbformat": 4,
 "nbformat_minor": 2
}
